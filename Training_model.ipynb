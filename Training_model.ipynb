{
 "cells": [
  {
   "cell_type": "code",
   "execution_count": 1,
   "id": "d3c782f9",
   "metadata": {},
   "outputs": [],
   "source": [
    "import cv2\n",
    "import numpy as np"
   ]
  },
  {
   "cell_type": "code",
   "execution_count": 2,
   "id": "95c7c317",
   "metadata": {},
   "outputs": [
    {
     "name": "stderr",
     "output_type": "stream",
     "text": [
      "<>:13: SyntaxWarning: \"is\" with a literal. Did you mean \"==\"?\n",
      "<>:13: SyntaxWarning: \"is\" with a literal. Did you mean \"==\"?\n",
      "<ipython-input-2-6d1ab5789cd0>:13: SyntaxWarning: \"is\" with a literal. Did you mean \"==\"?\n",
      "  if faces is ():\n"
     ]
    },
    {
     "name": "stdout",
     "output_type": "stream",
     "text": [
      "Collecting Samples Completed\n"
     ]
    }
   ],
   "source": [
    "# Load haarcascade face classifier to detect face\n",
    "face_classifier = cv2.CascadeClassifier('haarcascade_frontalface_default.xml')\n",
    "\n",
    "# Load functions\n",
    "def face_extractor(img):\n",
    "    # This function detects faces & return the cropped face\n",
    "    # If no face detected, it will return the input image\n",
    "    \n",
    "    gray = cv2.cvtColor(img, cv2.COLOR_BGR2GRAY)\n",
    "    faces = face_classifier.detectMultiScale(gray, 1.3, 5)\n",
    "    # print(faces, len(faces))\n",
    "    \n",
    "    if faces is ():\n",
    "        return None\n",
    "    \n",
    "    # Crop all faces found\n",
    "    for (x,y,w,h) in faces:\n",
    "        cropped_face = img[y:y+h, x:x+h]\n",
    "        \n",
    "    return cropped_face\n",
    "\n",
    "# Initialize Webcam\n",
    "cap = cv2.VideoCapture(0)\n",
    "count = 0\n",
    "\n",
    "# Collect 100 samples of your face from webcam input\n",
    "\n",
    "while True:   \n",
    "    ret, frame = cap.read()\n",
    "    if face_extractor(frame) is not None:\n",
    "        count += 1\n",
    "        face = cv2.resize(face_extractor(frame), (500,500))\n",
    "        face = cv2.cvtColor(face, cv2.COLOR_BGR2GRAY)\n",
    "        \n",
    "        # Save file in specified directory with unique name\n",
    "        file_name_path = './face/user/' + str(count) + '.jpg'\n",
    "        cv2.imwrite(file_name_path, face)\n",
    "        \n",
    "        # Put count on images & display live count\n",
    "        cv2.putText(face, str(count), (100,100), cv2.FONT_HERSHEY_COMPLEX, 1, (0,0,255), 2)\n",
    "        cv2.imshow('Image Cropped', face)\n",
    "     \n",
    "    else:\n",
    "        print(\"No face detected\")\n",
    "        \n",
    "    if cv2.waitKey(10) == 13 or count == 100:   # 13 means enter key\n",
    "        break\n",
    "        \n",
    "cap.release()\n",
    "cv2.destroyAllWindows()\n",
    "print(\"Collecting Samples Completed\")"
   ]
  },
  {
   "cell_type": "code",
   "execution_count": 3,
   "id": "22aa5ca4",
   "metadata": {},
   "outputs": [
    {
     "name": "stdout",
     "output_type": "stream",
     "text": [
      "Model trained successfully\n"
     ]
    }
   ],
   "source": [
    "from os import listdir\n",
    "from os.path import isfile, join\n",
    "\n",
    "# Create arrays for training data & labels\n",
    "training_data, labels = [], []\n",
    "\n",
    "def trainingDataLabels(images, sourcePath):\n",
    "    l = 0\n",
    "    for image_name in images:\n",
    "        image_path = data_path + image_name\n",
    "        #print(\"Image path: \", image_path)\n",
    "        images = cv2.imread(image_path, cv2.IMREAD_GRAYSCALE)\n",
    "        #print(\"Images: \", images)\n",
    "        training_data.append(images)\n",
    "        #print(\"training data: \", training_data)\n",
    "        labels.append(l)\n",
    "        #print(\"labels: \", labels)\n",
    "        l += 1\n",
    "    return training_data, labels\n",
    "\n",
    "# Get the training data we previously made\n",
    "data_path = './face/user/'\n",
    "\n",
    "# List all images in list\n",
    "image_files = listdir(data_path)\n",
    "#print(image_files)\n",
    "training_data, labels = trainingDataLabels(image_files, data_path)\n",
    "    \n",
    "\n",
    "# Initialize facial recognizer\n",
    "# Create the model\n",
    "priya_model = cv2.face_LBPHFaceRecognizer.create() \n",
    "\n",
    "# Let's train our model\n",
    "priya_model.train(training_data, np.asarray(labels, dtype=np.int32))\n",
    "#print(\"labels\", labels)\n",
    "print(\"Model trained successfully\")\n",
    "\n",
    "# Save Model\n",
    "priya_model.save(\"priya_model.h5\")"
   ]
  },
  {
   "cell_type": "code",
   "execution_count": null,
   "id": "49c40904",
   "metadata": {},
   "outputs": [],
   "source": []
  }
 ],
 "metadata": {
  "kernelspec": {
   "display_name": "Python 3",
   "language": "python",
   "name": "python3"
  },
  "language_info": {
   "codemirror_mode": {
    "name": "ipython",
    "version": 3
   },
   "file_extension": ".py",
   "mimetype": "text/x-python",
   "name": "python",
   "nbconvert_exporter": "python",
   "pygments_lexer": "ipython3",
   "version": "3.8.8"
  }
 },
 "nbformat": 4,
 "nbformat_minor": 5
}
